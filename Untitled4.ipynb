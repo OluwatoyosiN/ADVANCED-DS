{
  "nbformat": 4,
  "nbformat_minor": 0,
  "metadata": {
    "colab": {
      "name": "Untitled4.ipynb",
      "provenance": [],
      "collapsed_sections": [],
      "authorship_tag": "ABX9TyOT1q5OpKdL5PZXEr882Ay/",
      "include_colab_link": true
    },
    "kernelspec": {
      "name": "python3",
      "display_name": "Python 3"
    },
    "language_info": {
      "name": "python"
    }
  },
  "cells": [
    {
      "cell_type": "markdown",
      "metadata": {
        "id": "view-in-github",
        "colab_type": "text"
      },
      "source": [
        "<a href=\"https://colab.research.google.com/github/OluwatoyosiN/ADVANCED-DS/blob/main/Untitled4.ipynb\" target=\"_parent\"><img src=\"https://colab.research.google.com/assets/colab-badge.svg\" alt=\"Open In Colab\"/></a>"
      ]
    },
    {
      "cell_type": "code",
      "execution_count": 1,
      "metadata": {
        "id": "EO-7UjIjG6Ws"
      },
      "outputs": [],
      "source": [
        "students=[\"Toyo\", \"Seun\", \"Bisi\", \"Sola\"]\n"
      ]
    },
    {
      "cell_type": "code",
      "source": [
        "students.append(\"Tope\")\n",
        "students"
      ],
      "metadata": {
        "colab": {
          "base_uri": "https://localhost:8080/"
        },
        "id": "yNY4bEdRH4KS",
        "outputId": "88a9b39e-c1cf-44f9-9b3b-19dc8bb6e798"
      },
      "execution_count": 4,
      "outputs": [
        {
          "output_type": "execute_result",
          "data": {
            "text/plain": [
              "['Toyo', 'Seun', 'Bisi', 'Sola', 'Tope']"
            ]
          },
          "metadata": {},
          "execution_count": 4
        }
      ]
    },
    {
      "cell_type": "code",
      "source": [
        "students=[\"Toyo\", \"Seun\", \"Bisi\", \"Sola\"]\n",
        "students.insert(3,\"Sade\")\n",
        "students"
      ],
      "metadata": {
        "colab": {
          "base_uri": "https://localhost:8080/"
        },
        "id": "nQJPX3-HINER",
        "outputId": "99c07526-8914-4d06-95b3-bb4bdf73a272"
      },
      "execution_count": 7,
      "outputs": [
        {
          "output_type": "execute_result",
          "data": {
            "text/plain": [
              "['Toyo', 'Seun', 'Bisi', 'Sade', 'Sola']"
            ]
          },
          "metadata": {},
          "execution_count": 7
        }
      ]
    },
    {
      "cell_type": "code",
      "source": [
        "students=[\"Toyo\", \"Seun\", \"Bisi\", \"Sade\", \"Sola\"]\n",
        "students.pop(0)\n",
        "students\n"
      ],
      "metadata": {
        "colab": {
          "base_uri": "https://localhost:8080/"
        },
        "id": "WcBun1hWJrah",
        "outputId": "9c98a849-3234-42f3-a395-9847d0643117"
      },
      "execution_count": 11,
      "outputs": [
        {
          "output_type": "execute_result",
          "data": {
            "text/plain": [
              "['Seun', 'Bisi', 'Sade', 'Sola']"
            ]
          },
          "metadata": {},
          "execution_count": 11
        }
      ]
    },
    {
      "cell_type": "code",
      "source": [
        "len_students=len(students)\n",
        "len_students"
      ],
      "metadata": {
        "colab": {
          "base_uri": "https://localhost:8080/"
        },
        "id": "8-oEl6lPLTT8",
        "outputId": "b19e7a23-9942-4ce6-d4ec-fb0399d48c90"
      },
      "execution_count": 16,
      "outputs": [
        {
          "output_type": "execute_result",
          "data": {
            "text/plain": [
              "4"
            ]
          },
          "metadata": {},
          "execution_count": 16
        }
      ]
    },
    {
      "cell_type": "code",
      "source": [
        "students.sort()\n",
        "students"
      ],
      "metadata": {
        "colab": {
          "base_uri": "https://localhost:8080/"
        },
        "id": "aAR5BBWNLw9r",
        "outputId": "c7a73829-f5c1-4945-de45-72e4a2b8d223"
      },
      "execution_count": 20,
      "outputs": [
        {
          "output_type": "execute_result",
          "data": {
            "text/plain": [
              "['Bisi', 'Sade', 'Seun', 'Sola']"
            ]
          },
          "metadata": {},
          "execution_count": 20
        }
      ]
    },
    {
      "cell_type": "code",
      "source": [
        "len_students"
      ],
      "metadata": {
        "colab": {
          "base_uri": "https://localhost:8080/"
        },
        "id": "-3Tu-G0RMiZ7",
        "outputId": "9a08f613-6f26-4b6c-fec2-3c5ce9fce58d"
      },
      "execution_count": 24,
      "outputs": [
        {
          "output_type": "execute_result",
          "data": {
            "text/plain": [
              "4"
            ]
          },
          "metadata": {},
          "execution_count": 24
        }
      ]
    }
  ]
}