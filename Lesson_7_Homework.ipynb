{
  "nbformat": 4,
  "nbformat_minor": 0,
  "metadata": {
    "colab": {
      "name": "Lesson 7 Homework.ipynb",
      "provenance": [],
      "collapsed_sections": [],
      "include_colab_link": true
    },
    "kernelspec": {
      "name": "python3",
      "display_name": "Python 3"
    },
    "language_info": {
      "name": "python"
    }
  },
  "cells": [
    {
      "cell_type": "markdown",
      "metadata": {
        "id": "view-in-github",
        "colab_type": "text"
      },
      "source": [
        "<a href=\"https://colab.research.google.com/github/OluwatoyosiN/PANDAS/blob/main/Lesson_7_Homework.ipynb\" target=\"_parent\"><img src=\"https://colab.research.google.com/assets/colab-badge.svg\" alt=\"Open In Colab\"/></a>"
      ]
    },
    {
      "cell_type": "markdown",
      "metadata": {
        "id": "daHqMSeBDx0H"
      },
      "source": [
        "#**Homework Lesson 7: Loops & Functions**\n",
        "\n",
        "\n",
        "Welcome to this week’s homework where we will cover the principles of Loops & Functions\n",
        "Please remember as always - if you have questions, first have a quick internet search \n",
        "\n",
        "Loops: https://www.w3schools.com/python/python_for_loops.asp & https://www.w3schools.com/python/python_while_loops.asp,  \n",
        "Functions: https://www.w3schools.com/python/python_functions.asp)\n",
        "\n",
        "and if you’re still confused - please reach out to your buddies, or your teachers \n",
        "\n"
      ]
    },
    {
      "cell_type": "markdown",
      "metadata": {
        "id": "PA72skJQEofF"
      },
      "source": [
        "#**Exercise 1 For Loops**\n",
        "\n",
        "\n",
        "Sarah has a list of numbers:\n",
        "\n",
        "\n",
        "`numbers = [2, 5, 6, 21, 44, 33, 210, 999]`\n",
        "\n",
        "\n",
        "\n",
        "\n",
        "For each number, she needs to apply an exponent according to the position or index the number is in the list, so that:\n",
        "\n",
        "\n",
        "`numbers = [2**1, 5^2, 6^3 ...]`\n",
        "\n",
        "\n",
        "Before, Sarah would always do this manually, however she now knows that using a for loop can save her time and energy.\n",
        "\n",
        "Write a **for loop** that will do the correct arithmetic, and **append the numbers into a separate list**, `refined_numbers` and **print** the list out. "
      ]
    },
    {
      "cell_type": "code",
      "metadata": {
        "id": "g7VJcgyiD2FM",
        "colab": {
          "base_uri": "https://localhost:8080/"
        },
        "outputId": "723b5291-59bf-4fa7-df46-864ed72f59d1"
      },
      "source": [
        "numbers = [2, 5, 6, 21, 44, 33, 210, 999]\n",
        "exponent = 1\n",
        "refined_numbers = []\n",
        "for i in numbers:\n",
        "  refined_numbers.append(i**exponent)\n",
        "  exponent = exponent+1\n",
        "print(refined_numbers)"
      ],
      "execution_count": 2,
      "outputs": [
        {
          "output_type": "stream",
          "name": "stdout",
          "text": [
            "[2, 25, 216, 194481, 164916224, 1291467969, 18010885410000000, 992027944069944027992001]\n"
          ]
        }
      ]
    },
    {
      "cell_type": "markdown",
      "metadata": {
        "id": "NhlHhgKcFLLn"
      },
      "source": [
        "#**Exercise 2 While Loops**\n",
        "Joerg is currently writing a “random walk” simulation. This is a simulation where a variable moves around randomly and creates a **[non-deterministic ](https://simple.wikipedia.org/wiki/Nondeterminism)model**. Because this is an **indeterminate case**  (i.e. we don’t  know when the end will be), he is using a **while loop**.\n",
        "\n",
        "To help with this, Joerg is using a **function**  that he has imported from a package called `random`. `random` is a module / package that contains lots of functions to produce random results. In this case, in the package random contains a function by the same name, `random()`. This function returns a floating point value between 0 and 1. Joerg wants  to run this simulation, and see what the results are. \n",
        "\n",
        "First, he imports the random package (make sure you include this at the top of your file!)\n",
        "\n",
        "\n",
        "`from random import random`\n",
        "\n",
        "\n",
        "Then, he defines a start point, and an upper and lower boundary, \n",
        "\n",
        "```\n",
        "start_point = 10\n",
        "upper_boundary = 15\n",
        "lower_boundary = 4\n",
        "\n",
        "```\n",
        "\n",
        "\n",
        "\n",
        "\n",
        "Then joerg defines his `while` loop:\n",
        "\n",
        "\n",
        "```\n",
        "while ... :\n",
        "    start_point += random() - 0.5\n",
        "    print(start_point)\n",
        "```\n",
        "\n",
        "\n",
        "Joerg isn’t sure though, how he can make the while loop finish. Fill in the `...` and run the code and print the result as described. \n",
        "\n",
        "What did you observe?\n",
        "What was your last value, was it positive or negative?\n",
        "What happens if you run the code again? \n",
        "Do you get the same result?\n",
        "\n"
      ]
    },
    {
      "cell_type": "code",
      "metadata": {
        "id": "B6pzmE8pGspF",
        "colab": {
          "base_uri": "https://localhost:8080/"
        },
        "outputId": "f0019146-a4ae-47a3-ad4c-ae75186e580c"
      },
      "source": [
        "from random import random\n",
        "start_point = 10\n",
        "upper_boundary = 15\n",
        "lower_boundary = 4\n",
        "while(start_point > lower_boundary and start_point < upper_boundary):\n",
        "  start_point += random() - 0.5\n",
        "  print(start_point)"
      ],
      "execution_count": 3,
      "outputs": [
        {
          "output_type": "stream",
          "name": "stdout",
          "text": [
            "9.913376555890888\n",
            "10.051934379952076\n",
            "9.62361794542712\n",
            "9.479393280005862\n",
            "9.305339613323168\n",
            "9.608128851028745\n",
            "9.854907206227827\n",
            "9.531303824729948\n",
            "9.223922063140584\n",
            "9.014952136498252\n",
            "8.570851707093473\n",
            "8.219332708615648\n",
            "8.531981264333977\n",
            "8.276595303047579\n",
            "7.903382308635092\n",
            "7.938630541453568\n",
            "7.724396133134351\n",
            "7.619676216690601\n",
            "7.484048172096297\n",
            "7.799104098601667\n",
            "7.9264147611081786\n",
            "7.644047350783295\n",
            "7.701750732818323\n",
            "7.304578751340955\n",
            "6.9109657002204585\n",
            "6.410973575031377\n",
            "6.5847543140835905\n",
            "6.971067615760997\n",
            "6.726736522271474\n",
            "7.158176787148788\n",
            "6.804946963987806\n",
            "7.26445368030283\n",
            "7.089753950734212\n",
            "6.607045501996888\n",
            "6.34427203058038\n",
            "6.328995814835381\n",
            "5.910351743970472\n",
            "5.586819271694185\n",
            "5.769973549846733\n",
            "5.320092459022023\n",
            "5.32941153100723\n",
            "5.749362727063456\n",
            "5.6282237046513846\n",
            "5.646765646004679\n",
            "5.180163620577729\n",
            "4.993301935220528\n",
            "4.9956118530872\n",
            "5.2350075409331325\n",
            "4.752642510546601\n",
            "5.094946274991768\n",
            "5.456461841135288\n",
            "5.340923082532457\n",
            "5.308017020278691\n",
            "5.545452286660046\n",
            "5.820079622502338\n",
            "5.942148988323442\n",
            "5.477402019405586\n",
            "5.751023351582803\n",
            "5.272187607799497\n",
            "5.764058047175315\n",
            "5.647678181638197\n",
            "5.778727330495707\n",
            "5.739042958267822\n",
            "5.963470866580008\n",
            "5.789875819303493\n",
            "6.007799803176391\n",
            "6.09977095326117\n",
            "5.6909940523542675\n",
            "6.188601342439811\n",
            "5.92911386928708\n",
            "6.16218509824211\n",
            "6.536549298946365\n",
            "6.251466885204914\n",
            "5.8610320038801\n",
            "5.95422718466041\n",
            "5.951465731045793\n",
            "5.9813992509734035\n",
            "6.0162015677550835\n",
            "5.535109756367382\n",
            "5.561051356533007\n",
            "5.15757710295046\n",
            "5.499595882101502\n",
            "5.426066320125219\n",
            "4.982700496631013\n",
            "4.562170593958784\n",
            "4.265253941767373\n",
            "4.0378219727985325\n",
            "4.3078436090152845\n",
            "4.388052506616555\n",
            "4.793794172679304\n",
            "4.51914063275284\n",
            "4.3815704444755\n",
            "3.8982527004380896\n"
          ]
        }
      ]
    },
    {
      "cell_type": "markdown",
      "metadata": {
        "id": "6My8znw6Gnnm"
      },
      "source": [
        "What did you observe?\n",
        "\n",
        "What was your last value, was it positive or negative?\n",
        "\n",
        "What happens if you run the code again? \n",
        "\n",
        "Do you get the same result?"
      ]
    },
    {
      "cell_type": "markdown",
      "metadata": {
        "id": "RAk4o-FcHDD4"
      },
      "source": [
        "#**Exercise 3**\n",
        "What  is the simplest `while` loop that we could run, that does nothing, but blocks our application (hint: we covered this in class - we got a lot of print statements on the screen).!! Don't run the code or you will be stuck in an eternal loop :)!!"
      ]
    },
    {
      "cell_type": "code",
      "metadata": {
        "id": "Ruu-1zLRHr8K",
        "colab": {
          "base_uri": "https://localhost:8080/"
        },
        "outputId": "f5bf48e6-4a2d-40fd-db44-b9a6efc728bc"
      },
      "source": [
        "while 1:\n",
        "  print(True)\n",
        "  break"
      ],
      "execution_count": 4,
      "outputs": [
        {
          "output_type": "stream",
          "name": "stdout",
          "text": [
            "True\n"
          ]
        }
      ]
    },
    {
      "cell_type": "markdown",
      "metadata": {
        "id": "SglccAy9H49b"
      },
      "source": [
        "#**Exercise 4**\n",
        "Miodrag has just started learning python programming and loves using functions in his day-to-day work. A common problem Miodrag has is knowing when the weekend is, so he knows when to party. \n",
        "Write a function called `is_weekend` that takes **one string argument**, and **returns (hint!) a boolean value** - `True` if the input is ‘saturday’ or ‘sunday’, `False` if anything else. There are many ways to do this within a function, so the choice is up to you, whether you use **if statements**, a dictionary or something else. The most important thing is that the function runs. "
      ]
    },
    {
      "cell_type": "code",
      "metadata": {
        "id": "v25SFSnTISF-",
        "colab": {
          "base_uri": "https://localhost:8080/"
        },
        "outputId": "7a0625ff-d57b-4932-c31b-9706e5f78abd"
      },
      "source": [
        "def is_weekend(day):\n",
        "  if day.lower() == 'saturday':\n",
        "    return True\n",
        "  elif day.lower() == 'sunday':\n",
        "    return True\n",
        "  else:\n",
        "    return False\n",
        "\n",
        "is_weekend(input(\"Please choose a day (saturday or sunday)\"))"
      ],
      "execution_count": 12,
      "outputs": [
        {
          "name": "stdout",
          "output_type": "stream",
          "text": [
            "Please choose a day (saturday or sunday)saturday\n"
          ]
        },
        {
          "output_type": "execute_result",
          "data": {
            "text/plain": [
              "True"
            ]
          },
          "metadata": {},
          "execution_count": 12
        }
      ]
    }
  ]
}