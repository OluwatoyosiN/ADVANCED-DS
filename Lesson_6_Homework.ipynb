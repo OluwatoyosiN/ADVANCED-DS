{
  "nbformat": 4,
  "nbformat_minor": 0,
  "metadata": {
    "kernelspec": {
      "display_name": "Python 3",
      "language": "python",
      "name": "python3"
    },
    "language_info": {
      "codemirror_mode": {
        "name": "ipython",
        "version": 3
      },
      "file_extension": ".py",
      "mimetype": "text/x-python",
      "name": "python",
      "nbconvert_exporter": "python",
      "pygments_lexer": "ipython3",
      "version": "3.7.0"
    },
    "colab": {
      "name": "Lesson 6 Homework.ipynb",
      "provenance": [],
      "collapsed_sections": [],
      "include_colab_link": true
    }
  },
  "cells": [
    {
      "cell_type": "markdown",
      "metadata": {
        "id": "view-in-github",
        "colab_type": "text"
      },
      "source": [
        "<a href=\"https://colab.research.google.com/github/OluwatoyosiN/PANDAS/blob/main/Lesson_6_Homework.ipynb\" target=\"_parent\"><img src=\"https://colab.research.google.com/assets/colab-badge.svg\" alt=\"Open In Colab\"/></a>"
      ]
    },
    {
      "cell_type": "markdown",
      "metadata": {
        "id": "AT4fPM0PIH8S"
      },
      "source": [
        "# Homework Lesson 6: Boolean logic and decision making"
      ]
    },
    {
      "cell_type": "markdown",
      "source": [
        "# Part 1: If, elif, else"
      ],
      "metadata": {
        "id": "ZrYN36gwTRhG"
      }
    },
    {
      "cell_type": "markdown",
      "source": [
        "1. Ask a user to enter two numbers. If the sum of these two numbers is greater than 10, inform the user about it. Otherwise, inform the user that the sum of these two numbers is less than 10."
      ],
      "metadata": {
        "id": "fSsdfyeFS7uM"
      }
    },
    {
      "cell_type": "code",
      "metadata": {
        "id": "2ZBwe_C4IH8X"
      },
      "source": [
        ""
      ],
      "execution_count": null,
      "outputs": []
    },
    {
      "cell_type": "markdown",
      "source": [
        "2. Below you are given a code similar to the one we saw in the lesson. \n",
        "In a few sentences (or bullet points), explain what the code is doing.\n",
        "Play around with the code and write what will be printed out when you enter the number 7 and what if you enter the number -1.\n",
        "Draw a flowchart that explains the logic of the code."
      ],
      "metadata": {
        "id": "y0QVF-m4TA9H"
      }
    },
    {
      "cell_type": "code",
      "source": [
        "print(\"Enter one number\")\n",
        "a = int(input())\n",
        "if a >= 7:\n",
        "  print(\"The number is equal or greater than 7\")\n",
        "else:\n",
        "  print(\"The number is lower than 7\")\n",
        "print(\"The program has finished.\")"
      ],
      "metadata": {
        "id": "-Or_JQQPTBHY"
      },
      "execution_count": null,
      "outputs": []
    },
    {
      "cell_type": "markdown",
      "source": [
        "** add your text and the flowchart screenshot here **"
      ],
      "metadata": {
        "id": "5wXTC9jxj6A8"
      }
    },
    {
      "cell_type": "markdown",
      "source": [
        "3.a) Below is a Python program for a tee and coffee machine. What is the output of the program when: \n",
        "The user wants a tea?\n",
        "The user wants a coffee?\n",
        "The user wants a hot chocolate?"
      ],
      "metadata": {
        "id": "4T9EkowPTE1C"
      }
    },
    {
      "cell_type": "code",
      "source": [
        "print(\"Turning on the machine...\")\n",
        "print(\"Do you want tea or coffee?\")\n",
        "beverage = str(input())\n",
        "if beverage == \"tea\":\n",
        "  print(\"Preparing tea...\")\n",
        "elif beverage == \"coffee\" :\n",
        "  print(\"Preparing coffee...\")\n",
        "print(\"Your\" + beverage + \" is prepared!\")\n",
        "print(\"Turning off the machine.\")"
      ],
      "metadata": {
        "id": "7i4VE9qXTE_B",
        "colab": {
          "base_uri": "https://localhost:8080/"
        },
        "outputId": "8541650f-cfaf-43c4-c973-9a16449d93ff"
      },
      "execution_count": null,
      "outputs": [
        {
          "output_type": "stream",
          "name": "stdout",
          "text": [
            "Turning on the machine...\n",
            "Do you want tea or coffee?\n",
            "tea\n",
            "Preparing tea...\n",
            "Yourtea is prepared!\n",
            "Turning off the machine.\n"
          ]
        }
      ]
    },
    {
      "cell_type": "markdown",
      "source": [
        "** add your text here **"
      ],
      "metadata": {
        "id": "IT4Bka2qkSW1"
      }
    },
    {
      "cell_type": "markdown",
      "source": [
        "3.b) How would you enhance the code given above, so that when a user wants anything else besides coffee or tea you inform the user that the required beverage is not available?"
      ],
      "metadata": {
        "id": "F7PmqAkNTGgI"
      }
    },
    {
      "cell_type": "code",
      "source": [
        ""
      ],
      "metadata": {
        "id": "TPQlnquuTGrq"
      },
      "execution_count": null,
      "outputs": []
    },
    {
      "cell_type": "markdown",
      "source": [
        "# Part 2: School schedule"
      ],
      "metadata": {
        "id": "KGtV-yj-TQn0"
      }
    },
    {
      "cell_type": "markdown",
      "metadata": {
        "id": "82SPYQR4IH8X"
      },
      "source": [
        "1. Do you remember the personal assistant we programmed together in class? Now it’s time to write something similar!\n",
        "\n",
        "Consider the following dictionary:"
      ]
    },
    {
      "cell_type": "code",
      "source": [
        "school_schedule = {\n",
        "  8: \"Maths\", \n",
        "  9: \"German\", \n",
        "  10: \"History\", \n",
        "  12: \"Programming\", \n",
        "  13:\"Biology\"}"
      ],
      "metadata": {
        "id": "dPukuWMEUA_x"
      },
      "execution_count": null,
      "outputs": []
    },
    {
      "cell_type": "markdown",
      "source": [
        "2. Take two inputs from the user, ask to provide a name of a subject and the hour at which the class for the given subject takes place (Hint: Use the input() function for that). The subject should be of type string, the hour should be of type int. Store the inputs in two variables with appropriate names!"
      ],
      "metadata": {
        "id": "yzhzEhJQTVjQ"
      }
    },
    {
      "cell_type": "code",
      "source": [
        ""
      ],
      "metadata": {
        "id": "cvJJcriUTQyn"
      },
      "execution_count": null,
      "outputs": []
    },
    {
      "cell_type": "markdown",
      "source": [
        "3. Store the inputs as a new key-value pair in the school_schedule dictionary! If the hour (key) is already taken, inform the user about that with an appropriate print statement! Else, store the subject at the given hour.\n"
      ],
      "metadata": {
        "id": "EBD0ZXwCTdMz"
      }
    },
    {
      "cell_type": "code",
      "source": [
        ""
      ],
      "metadata": {
        "id": "-SuDToIMTdX-"
      },
      "execution_count": null,
      "outputs": []
    },
    {
      "cell_type": "markdown",
      "source": [
        "4. Ask the user, if she has any questions about her schedule. If she has questions, she should enter yes. If not, she should enter no. Store the user’s input in a variable."
      ],
      "metadata": {
        "id": "uCF2v4vNThFM"
      }
    },
    {
      "cell_type": "code",
      "source": [
        ""
      ],
      "metadata": {
        "id": "SHS5dzMAThP0"
      },
      "execution_count": null,
      "outputs": []
    },
    {
      "cell_type": "markdown",
      "source": [
        "5. Using the variable with the user’s answer, check if it is a yes or a no. \n",
        "\n",
        "\n",
        "*   If the user entered yes, ask the user what hour she wants to know the subject \n",
        "at. Store the input as a variable. Later, use this variable to check the school_schedule dictionary for the hour she asked about. If there is a class taking place at this hour, print the subject. If not, tell the user she can take a break!\n",
        "*   If the user entered no, tell the user goodbye and finish the program!"
      ],
      "metadata": {
        "id": "9kKmPc3mTiiA"
      }
    },
    {
      "cell_type": "code",
      "source": [
        ""
      ],
      "metadata": {
        "id": "GUxg2El-TisZ"
      },
      "execution_count": null,
      "outputs": []
    },
    {
      "cell_type": "markdown",
      "source": [
        "PS. Feel free to make as many additional improvements as you like ⛵"
      ],
      "metadata": {
        "id": "IVBk866_Tlc7"
      }
    },
    {
      "cell_type": "code",
      "source": [
        ""
      ],
      "metadata": {
        "id": "R8Od_hlAjkct"
      },
      "execution_count": null,
      "outputs": []
    },
    {
      "cell_type": "markdown",
      "source": [
        "##You are doing great, ladies! Keep up the good work! 💛💛💛\n",
        "\n",
        "Don’t hesitate to ask your buddy teachers and us for help, if you need it"
      ],
      "metadata": {
        "id": "thZF3JCtToZC"
      }
    }
  ]
}