{
  "nbformat": 4,
  "nbformat_minor": 0,
  "metadata": {
    "kernelspec": {
      "display_name": "Python 3",
      "language": "python",
      "name": "python3"
    },
    "language_info": {
      "codemirror_mode": {
        "name": "ipython",
        "version": 3
      },
      "file_extension": ".py",
      "mimetype": "text/x-python",
      "name": "python",
      "nbconvert_exporter": "python",
      "pygments_lexer": "ipython3",
      "version": "3.7.0"
    },
    "colab": {
      "name": "oluwatoyosi nafisat - Lesson 5 Homework.ipynb",
      "provenance": [],
      "collapsed_sections": [],
      "include_colab_link": true
    }
  },
  "cells": [
    {
      "cell_type": "markdown",
      "metadata": {
        "id": "view-in-github",
        "colab_type": "text"
      },
      "source": [
        "<a href=\"https://colab.research.google.com/github/OluwatoyosiN/ADVANCED-DS/blob/main/oluwatoyosi_nafisat_Lesson_5_Homework.ipynb\" target=\"_parent\"><img src=\"https://colab.research.google.com/assets/colab-badge.svg\" alt=\"Open In Colab\"/></a>"
      ]
    },
    {
      "cell_type": "markdown",
      "metadata": {
        "id": "AT4fPM0PIH8S"
      },
      "source": [
        "# Homework Lesson 5: strings, lists and dictionaries \n"
      ]
    },
    {
      "cell_type": "markdown",
      "source": [
        "# Part 1"
      ],
      "metadata": {
        "id": "ZrYN36gwTRhG"
      }
    },
    {
      "cell_type": "markdown",
      "source": [
        "1. Create a variable x = \"I am a great student at Redi\""
      ],
      "metadata": {
        "id": "fSsdfyeFS7uM"
      }
    },
    {
      "cell_type": "code",
      "metadata": {
        "id": "2ZBwe_C4IH8X"
      },
      "source": [
        "x = \"I am a great student at Redi\""
      ],
      "execution_count": null,
      "outputs": []
    },
    {
      "cell_type": "markdown",
      "source": [
        "2. Find all \"a\" using .find method and replace them with \"o\" using .replace method"
      ],
      "metadata": {
        "id": "y0QVF-m4TA9H"
      }
    },
    {
      "cell_type": "code",
      "source": [
        "x.find(\"a\")"
      ],
      "metadata": {
        "id": "-Or_JQQPTBHY",
        "colab": {
          "base_uri": "https://localhost:8080/"
        },
        "outputId": "9e880c84-16f1-4015-8a6f-785eb3a701a3"
      },
      "execution_count": null,
      "outputs": [
        {
          "output_type": "execute_result",
          "data": {
            "text/plain": [
              "2"
            ]
          },
          "metadata": {},
          "execution_count": 26
        }
      ]
    },
    {
      "cell_type": "code",
      "source": [
        "x.replace(\"a\",\"o\")"
      ],
      "metadata": {
        "colab": {
          "base_uri": "https://localhost:8080/",
          "height": 37
        },
        "id": "XIZt3RDVVQgp",
        "outputId": "07dcc3b4-8052-4db9-b818-9c857119ce3f"
      },
      "execution_count": null,
      "outputs": [
        {
          "output_type": "execute_result",
          "data": {
            "text/plain": [
              "'I om o greot student ot Redi'"
            ],
            "application/vnd.google.colaboratory.intrinsic+json": {
              "type": "string"
            }
          },
          "metadata": {},
          "execution_count": 27
        }
      ]
    },
    {
      "cell_type": "markdown",
      "source": [
        "3. slice the string from the left side using square brackets to print only letters from the index position 5 onwards"
      ],
      "metadata": {
        "id": "4T9EkowPTE1C"
      }
    },
    {
      "cell_type": "code",
      "source": [
        "\n",
        "x = \"I am a great student at Redi\"\n",
        "x[5:28]"
      ],
      "metadata": {
        "id": "7i4VE9qXTE_B",
        "colab": {
          "base_uri": "https://localhost:8080/",
          "height": 37
        },
        "outputId": "ec4061b3-fa50-442a-b44d-fd0f175a6232"
      },
      "execution_count": null,
      "outputs": [
        {
          "output_type": "execute_result",
          "data": {
            "text/plain": [
              "'a great student at Redi'"
            ],
            "application/vnd.google.colaboratory.intrinsic+json": {
              "type": "string"
            }
          },
          "metadata": {},
          "execution_count": 39
        }
      ]
    },
    {
      "cell_type": "markdown",
      "source": [
        "4. Print the length of the string using len function"
      ],
      "metadata": {
        "id": "F7PmqAkNTGgI"
      }
    },
    {
      "cell_type": "code",
      "source": [
        "x = \"I am a great student at Redi\"\n",
        "len_x=len(x)\n",
        "len_x"
      ],
      "metadata": {
        "id": "TPQlnquuTGrq",
        "colab": {
          "base_uri": "https://localhost:8080/"
        },
        "outputId": "f18edb43-d731-4c1b-d169-7b67dfde3fa8"
      },
      "execution_count": null,
      "outputs": [
        {
          "output_type": "execute_result",
          "data": {
            "text/plain": [
              "28"
            ]
          },
          "metadata": {},
          "execution_count": 44
        }
      ]
    },
    {
      "cell_type": "markdown",
      "source": [
        "# Part 2"
      ],
      "metadata": {
        "id": "KGtV-yj-TQn0"
      }
    },
    {
      "cell_type": "markdown",
      "metadata": {
        "id": "82SPYQR4IH8X"
      },
      "source": [
        "Remember your in class exercise where you created a dictionary with the key values your name, your hobby and your hometown. Please write this piece of the code on top of your coding block and let`s start working on it.\n",
        "\n",
        "1. First, copy the dictionary here"
      ]
    },
    {
      "cell_type": "code",
      "source": [
        "me={\"name\":\"Toyosi\",\"hobby\":\"dancing\",\"home_country\": \"Nigeria\"}\n",
        "me"
      ],
      "metadata": {
        "id": "dPukuWMEUA_x",
        "colab": {
          "base_uri": "https://localhost:8080/"
        },
        "outputId": "b51b5842-4967-4086-ac66-d8bf756f79b2"
      },
      "execution_count": 135,
      "outputs": [
        {
          "output_type": "execute_result",
          "data": {
            "text/plain": [
              "{'hobby': 'dancing', 'home_country': 'Nigeria', 'name': 'Toyosi'}"
            ]
          },
          "metadata": {},
          "execution_count": 135
        }
      ]
    },
    {
      "cell_type": "markdown",
      "source": [
        "2. Add another key \"surname\" and value <your surname> to your dictionary. Print your dictionary to check if it is added."
      ],
      "metadata": {
        "id": "yzhzEhJQTVjQ"
      }
    },
    {
      "cell_type": "code",
      "source": [
        "me={\"name\":\"Toyosi\",\"hobby\":\"dancing\",\"home_country\": \"Nigeria\",\"surname\":\"Oyewole\"}\n",
        "me"
      ],
      "metadata": {
        "id": "cvJJcriUTQyn",
        "colab": {
          "base_uri": "https://localhost:8080/"
        },
        "outputId": "5f4c07f3-3d23-44a2-8532-f1d119d9e343"
      },
      "execution_count": 136,
      "outputs": [
        {
          "output_type": "execute_result",
          "data": {
            "text/plain": [
              "{'hobby': 'dancing',\n",
              " 'home_country': 'Nigeria',\n",
              " 'name': 'Toyosi',\n",
              " 'surname': 'Oyewole'}"
            ]
          },
          "metadata": {},
          "execution_count": 136
        }
      ]
    },
    {
      "cell_type": "markdown",
      "source": [
        "3. Add another key \"skills\" with the value of list [\"running\", \"painting\", \"writing\"]"
      ],
      "metadata": {
        "id": "EBD0ZXwCTdMz"
      }
    },
    {
      "cell_type": "code",
      "source": [
        "me={\"name\":\"Toyosi\",\"hobby\":\"dancing\",\"home_country\": \"Nigeria\",\"surname\":\"Oyewole\"}\n",
        "me[\"skills\"]=[\"running\",\"painting\",\"writing\"]\n",
        "me\n"
      ],
      "metadata": {
        "id": "-SuDToIMTdX-",
        "colab": {
          "base_uri": "https://localhost:8080/"
        },
        "outputId": "c3ba62a6-eee7-4ad0-9c72-0b527e139c33"
      },
      "execution_count": 137,
      "outputs": [
        {
          "output_type": "execute_result",
          "data": {
            "text/plain": [
              "{'hobby': 'dancing',\n",
              " 'home_country': 'Nigeria',\n",
              " 'name': 'Toyosi',\n",
              " 'skills': ['running', 'painting', 'writing'],\n",
              " 'surname': 'Oyewole'}"
            ]
          },
          "metadata": {},
          "execution_count": 137
        }
      ]
    },
    {
      "cell_type": "markdown",
      "source": [
        "4. Append one more skill of yours to this list [\"running\", \"painting\", \"writing\"]. i.e [\"running\", \"painting\", \"writing\", \"coding\"]"
      ],
      "metadata": {
        "id": "uCF2v4vNThFM"
      }
    },
    {
      "cell_type": "code",
      "source": [
        "me={\"name\":\"Toyosi\",\"hobby\":\"dancing\",\"home_country\": \"Nigeria\",\"surname\":\"Oyewole\"}\n",
        "me[\"skills\"]=[\"running\",\"painting\",\"writing\",\"coding\"]\n",
        "me"
      ],
      "metadata": {
        "id": "SHS5dzMAThP0",
        "colab": {
          "base_uri": "https://localhost:8080/"
        },
        "outputId": "f656f16e-5fcd-49a3-cf0d-d429b70e28d4"
      },
      "execution_count": 138,
      "outputs": [
        {
          "output_type": "execute_result",
          "data": {
            "text/plain": [
              "{'hobby': 'dancing',\n",
              " 'home_country': 'Nigeria',\n",
              " 'name': 'Toyosi',\n",
              " 'skills': ['running', 'painting', 'writing', 'coding'],\n",
              " 'surname': 'Oyewole'}"
            ]
          },
          "metadata": {},
          "execution_count": 138
        }
      ]
    },
    {
      "cell_type": "markdown",
      "source": [
        "5. Sort this list. Print your dictionary to see if the changes have been made. "
      ],
      "metadata": {
        "id": "9kKmPc3mTiiA"
      }
    },
    {
      "cell_type": "code",
      "source": [
        "me={\"name\":\"Toyosi\",\"hobby\":\"dancing\",\"home_country\": \"Nigeria\",\"surname\":\"Oyewole\"}\n",
        "me[\"skills\"]=[\"running\",\"painting\",\"writing\",\"coding\"]\n",
        "me[\"skills\"].sort()\n",
        "me"
      ],
      "metadata": {
        "id": "GUxg2El-TisZ",
        "colab": {
          "base_uri": "https://localhost:8080/"
        },
        "outputId": "dc393e41-9607-407a-b591-fb4276a63cc1"
      },
      "execution_count": 139,
      "outputs": [
        {
          "output_type": "execute_result",
          "data": {
            "text/plain": [
              "{'hobby': 'dancing',\n",
              " 'home_country': 'Nigeria',\n",
              " 'name': 'Toyosi',\n",
              " 'skills': ['coding', 'painting', 'running', 'writing'],\n",
              " 'surname': 'Oyewole'}"
            ]
          },
          "metadata": {},
          "execution_count": 139
        }
      ]
    },
    {
      "cell_type": "markdown",
      "source": [
        "6. Remove \"running\" from the list."
      ],
      "metadata": {
        "id": "IVBk866_Tlc7"
      }
    },
    {
      "cell_type": "code",
      "source": [
        "me[\"skills\"].remove(\"running\")\n",
        "me"
      ],
      "metadata": {
        "id": "jjbAi5gjTl1J",
        "colab": {
          "base_uri": "https://localhost:8080/"
        },
        "outputId": "39f117cf-2873-4328-a0de-bb8291ee8c78"
      },
      "execution_count": 140,
      "outputs": [
        {
          "output_type": "execute_result",
          "data": {
            "text/plain": [
              "{'hobby': 'dancing',\n",
              " 'home_country': 'Nigeria',\n",
              " 'name': 'Toyosi',\n",
              " 'skills': ['coding', 'painting', 'writing'],\n",
              " 'surname': 'Oyewole'}"
            ]
          },
          "metadata": {},
          "execution_count": 140
        }
      ]
    },
    {
      "cell_type": "markdown",
      "source": [
        "7. Remove your hometown from the dictionary. Print your dictionary."
      ],
      "metadata": {
        "id": "thZF3JCtToZC"
      }
    },
    {
      "cell_type": "code",
      "source": [
        "del me[\"home_country\"]\n",
        "me\n"
      ],
      "metadata": {
        "id": "4grBdgAdTokI",
        "colab": {
          "base_uri": "https://localhost:8080/"
        },
        "outputId": "42a0dd5a-7db5-420a-90d2-6e674ad72bf5"
      },
      "execution_count": 142,
      "outputs": [
        {
          "output_type": "execute_result",
          "data": {
            "text/plain": [
              "{'hobby': 'dancing',\n",
              " 'name': 'Toyosi',\n",
              " 'skills': ['coding', 'painting', 'writing'],\n",
              " 'surname': 'Oyewole'}"
            ]
          },
          "metadata": {},
          "execution_count": 142
        }
      ]
    }
  ]
}