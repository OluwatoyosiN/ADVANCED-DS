{
  "nbformat": 4,
  "nbformat_minor": 0,
  "metadata": {
    "colab": {
      "name": "Copy of Class Exercise: Personal Assistant.ipynb",
      "provenance": [],
      "collapsed_sections": [],
      "include_colab_link": true
    },
    "interpreter": {
      "hash": "eecb9c2779395b1a28285d6cdcac86786d591e517b43ba2c204f185d8541e3a6"
    },
    "kernelspec": {
      "display_name": "Python 3.9.1 64-bit",
      "name": "python3"
    },
    "language_info": {
      "codemirror_mode": {
        "name": "ipython",
        "version": 3
      },
      "file_extension": ".py",
      "mimetype": "text/x-python",
      "name": "python",
      "nbconvert_exporter": "python",
      "pygments_lexer": "ipython3",
      "version": "3.9.1"
    }
  },
  "cells": [
    {
      "cell_type": "markdown",
      "metadata": {
        "id": "view-in-github",
        "colab_type": "text"
      },
      "source": [
        "<a href=\"https://colab.research.google.com/github/OluwatoyosiN/PANDAS/blob/main/Copy_of_Class_Exercise_Personal_Assistant.ipynb\" target=\"_parent\"><img src=\"https://colab.research.google.com/assets/colab-badge.svg\" alt=\"Open In Colab\"/></a>"
      ]
    },
    {
      "cell_type": "markdown",
      "metadata": {
        "id": "p0XJ4t1MtM0p"
      },
      "source": [
        "# My personal assistent"
      ]
    },
    {
      "cell_type": "markdown",
      "metadata": {
        "id": "Nua6UfwivxlM"
      },
      "source": [
        "### Consider the following dictionary. The dictionary is a collection of key-value pairs where the key is the hour (which we represent using an integer) and the belonging value is an activity (which we represent as a string)."
      ]
    },
    {
      "cell_type": "code",
      "metadata": {
        "id": "CTSMUmlzv9N5",
        "colab": {
          "base_uri": "https://localhost:8080/"
        },
        "outputId": "f80804e9-c2ed-4644-b3f0-b819a8d84126"
      },
      "source": [
        "schedule = { 9: \"Doing laundry\", 11: \"Getting a haircut\", 13: \"Picking up daughter\"}\n",
        "\n",
        "print(schedule)"
      ],
      "execution_count": null,
      "outputs": [
        {
          "output_type": "stream",
          "name": "stdout",
          "text": [
            "{9: 'Doing laundry', 11: 'Getting a haircut', 13: 'Picking up daughter'}\n"
          ]
        }
      ]
    },
    {
      "cell_type": "markdown",
      "metadata": {
        "id": "EVzbXSk8vb3Z"
      },
      "source": [
        "## 1. Add a task\n",
        "\n",
        "### Take two inputs from the user asking him to provide an activity and the hour which the activity takes place. (Hint: Use the input() function for that). \n",
        "### The activity should be of type string, the hour should be of type int. Store the inputs in two variables with appropriate names!\n"
      ]
    },
    {
      "cell_type": "code",
      "metadata": {
        "id": "WfFcjIQmtM0t",
        "outputId": "deb8d930-7250-4a5e-fb31-a6b17e8c2b34",
        "colab": {
          "base_uri": "https://localhost:8080/"
        }
      },
      "source": [
        "print(\"please write activity\")\n",
        "Task= input()\n",
        "print(\"please write hour\")\n",
        "Hour= int(input())\n",
        "print (Hour,Task)\n",
        "\n",
        " "
      ],
      "execution_count": null,
      "outputs": [
        {
          "output_type": "stream",
          "name": "stdout",
          "text": [
            "please write activity\n",
            "washing\n",
            "please write hour\n",
            "4\n",
            "4 washing\n"
          ]
        }
      ]
    },
    {
      "cell_type": "code",
      "source": [
        "schedule = { 9: \"Doing laundry\", 11: \"Getting a haircut\", 13: \"Picking up daughter\"}\n",
        "\n",
        "print(schedule)"
      ],
      "metadata": {
        "id": "JGI-QD4FPbaM",
        "outputId": "8dab2c57-0a2f-4761-80b4-0c1258463b83",
        "colab": {
          "base_uri": "https://localhost:8080/"
        }
      },
      "execution_count": null,
      "outputs": [
        {
          "output_type": "stream",
          "name": "stdout",
          "text": [
            "{9: 'Doing laundry', 11: 'Getting a haircut', 13: 'Picking up daughter'}\n"
          ]
        }
      ]
    },
    {
      "cell_type": "code",
      "source": [
        "schedule[Hour]= Task\n",
        "print(schedule)"
      ],
      "metadata": {
        "id": "xMBv6ERKKX8M",
        "outputId": "eed9ddcf-0411-4203-eec5-b39d5443444b",
        "colab": {
          "base_uri": "https://localhost:8080/"
        }
      },
      "execution_count": null,
      "outputs": [
        {
          "output_type": "stream",
          "name": "stdout",
          "text": [
            "{9: 'Doing laundry', 11: 'Getting a haircut', 13: 'Picking up daughter', 4: 'washing'}\n"
          ]
        }
      ]
    },
    {
      "cell_type": "code",
      "source": [
        ""
      ],
      "metadata": {
        "id": "xb6ldP1vN9lq"
      },
      "execution_count": null,
      "outputs": []
    },
    {
      "cell_type": "markdown",
      "metadata": {
        "id": "zm6-gv6gyk_O"
      },
      "source": [
        "### Store the inputs as a new key-value pair in the schedule dictionary! If the hour (key) is already taken, inform the user about that with an appropriate print statement! Else, store the activity at the given hour."
      ]
    },
    {
      "cell_type": "code",
      "metadata": {
        "id": "EuCNcknXypBi"
      },
      "source": [
        "\n"
      ],
      "execution_count": null,
      "outputs": []
    },
    {
      "cell_type": "markdown",
      "metadata": {
        "id": "Rwh9m0bTtM0u"
      },
      "source": [
        "## 2. Lookup task at a specific hour"
      ]
    },
    {
      "cell_type": "markdown",
      "metadata": {
        "id": "Afx4qVxy0r3-"
      },
      "source": [
        "## Then ask the user, if she has any questions about her schedule. Ask her to input a number. Store the number in a variable.\n"
      ]
    },
    {
      "cell_type": "code",
      "metadata": {
        "id": "a_5oj_k0tM0x",
        "outputId": "0c821490-92c2-4aed-9f9b-8dd12382b8cb",
        "colab": {
          "base_uri": "https://localhost:8080/"
        }
      },
      "source": [
        "print(\"please do you have any questions about schedule\")\n",
        "Sound= int(input())\n",
        "\n",
        "\n"
      ],
      "execution_count": null,
      "outputs": [
        {
          "name": "stdout",
          "output_type": "stream",
          "text": [
            "please do you have any questions about schedule\n",
            "345\n"
          ]
        }
      ]
    },
    {
      "cell_type": "markdown",
      "metadata": {
        "id": "A7wpwk041s-Z"
      },
      "source": [
        "## Look up the hour in the schedule dictionary! If there is an activity scheduled, print it out. Else, inform the user that this time slot is still free!"
      ]
    },
    {
      "cell_type": "code",
      "metadata": {
        "id": "rssCXIO81yXj"
      },
      "source": [
        "if Sound in schedule:\n",
        "  print(\"if an activity is scheduled\")\n",
        "  else:\n",
        "    schedule[Hour]"
      ],
      "execution_count": null,
      "outputs": []
    },
    {
      "cell_type": "markdown",
      "metadata": {
        "id": "R6ygpYxK2dsn"
      },
      "source": [
        "### end of program"
      ]
    }
  ]
}